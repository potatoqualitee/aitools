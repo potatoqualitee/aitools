{
 "cells": [
  {
   "cell_type": "code",
   "execution_count": null,
   "metadata": {
    "language_info": {
     "name": "polyglot-notebook"
    },
    "polyglot_notebook": {
     "kernelName": "value"
    }
   },
   "outputs": [],
   "source": [
    "╔═══════════════════════════════════════════════════════════════════════════════╗\n",
    "║                                                                               ║\n",
    "║   ██████╗ ███████╗███████╗████████╗███████╗██████╗     ██╗   ██╗██╗  ██╗      ║\n",
    "║   ██╔══██╗██╔════╝██╔════╝╚══██╔══╝██╔════╝██╔══██╗    ██║   ██║██║  ██║      ║\n",
    "║   ██████╔╝█████╗  ███████╗   ██║   █████╗  ██████╔╝    ██║   ██║███████║      ║\n",
    "║   ██╔═══╝ ██╔══╝  ╚════██║   ██║   ██╔══╝  ██╔══██╗    ╚██╗ ██╔╝╚════██║      ║\n",
    "║   ██║     ███████╗███████║   ██║   ███████╗██║  ██║     ╚████╔╝      ██║      ║\n",
    "║   ╚═╝     ╚══════╝╚══════╝   ╚═╝   ╚══════╝╚═╝  ╚═╝      ╚═══╝       ╚═╝      ║\n",
    "║                                                                               ║\n",
    "║                                    ↓↓↓                                        ║\n",
    "║                                                                               ║\n",
    "║   ██████╗ ███████╗███████╗████████╗███████╗██████╗     ██╗   ██╗███████╗      ║\n",
    "║   ██╔══██╗██╔════╝██╔════╝╚══██╔══╝██╔════╝██╔══██╗    ██║   ██║██╔════╝      ║\n",
    "║   ██████╔╝█████╗  ███████╗   ██║   █████╗  ██████╔╝    ██║   ██║███████╗      ║\n",
    "║   ██╔═══╝ ██╔══╝  ╚════██║   ██║   ██╔══╝  ██╔══██╗    ╚██╗ ██╔╝╚════██║      ║\n",
    "║   ██║     ███████╗███████║   ██║   ███████╗██║  ██║     ╚████╔╝ ███████║      ║\n",
    "║   ╚═╝     ╚══════╝╚══════╝   ╚═╝   ╚══════╝╚═╝  ╚═╝      ╚═══╝  ╚══════╝      ║\n",
    "║                                                                               ║\n",
    "╚═══════════════════════════════════════════════════════════════════════════════╝\n",
    "\n",
    "    PSConf.EU 2025 - Chrissy LeMaire (@funbucket.dev)\n",
    "    Converting 3500+ Pester Tests from v4 to v5 Using AI"
   ]
  },
  {
   "cell_type": "code",
   "execution_count": null,
   "id": "68738cdc",
   "metadata": {
    "language_info": {
     "name": "polyglot-notebook"
    },
    "polyglot_notebook": {
     "kernelName": "pwsh"
    }
   },
   "outputs": [],
   "source": [
    "# Since it's coming from my repo and not the Gallery\n",
    "Import-Module ./aitools.psd1 -Force\n",
    "\n",
    "# Set default params and create reusable function\n",
    "$PSDefaultParameterValues[\"Update-PesterTest:Raw\"] = $true\n",
    "$PSDefaultParameterValues[\"Start-Process:NoNewWindow\"] = $true\n",
    "\n",
    "# Create function to clear changes\n",
    "function Clear-Modified {\n",
    "    Start-Process git -ArgumentLIst @(\"-C\", \"../dbatools\", \"restore\", \".\")\n",
    "}"
   ]
  },
  {
   "cell_type": "markdown",
   "id": "911d0340",
   "metadata": {},
   "source": [
    "### Check out the 3 integral prompt files\n",
    "\n",
    "\n",
    "<dl>\n",
    "  <dt>📄 prompt.md</dt>\n",
    "  <dt>📄 migration.md</dt>\n",
    "  <dt>📄 style.md</dt>\n",
    "</dl>\n",
    "\n",
    "Now let's see it in action..\n",
    "\n",
    "#### 🧪 The actual test file"
   ]
  },
  {
   "cell_type": "code",
   "execution_count": null,
   "id": "6da75cb8",
   "metadata": {
    "language_info": {
     "name": "polyglot-notebook"
    },
    "polyglot_notebook": {
     "kernelName": "pwsh"
    }
   },
   "outputs": [],
   "source": [
    "# Pick a medium-complexity test file\n",
    "$testFile = \"C:\\github\\dbatools\\tests\\Invoke-DbaDbShrink.Tests.ps1\"\n",
    "\n",
    "# Show the BEFORE state - classic Pester v4\n",
    "Start-Process code -ArgumentList $testFile"
   ]
  },
  {
   "cell_type": "markdown",
   "id": "3bb4ad4e",
   "metadata": {},
   "source": [
    "### 🚀 Migrate with Claude Code\n",
    "\n",
    "First, check out the command and the tests that couldn't make the cut"
   ]
  },
  {
   "cell_type": "code",
   "execution_count": null,
   "id": "10f1bbf0",
   "metadata": {
    "language_info": {
     "name": "polyglot-notebook"
    },
    "polyglot_notebook": {
     "kernelName": "pwsh"
    }
   },
   "outputs": [],
   "source": [
    "# 📄 Load up public/Update-PesterTest.\n",
    "Start-Process explorer -ArgumentList C:\\github\\aitools\\public\n",
    "\n",
    "# 📁 Load up large files\n",
    "Start-Process explorer -ArgumentList C:\\github\\dbatools\\tests"
   ]
  },
  {
   "cell_type": "markdown",
   "id": "d7f83bed",
   "metadata": {},
   "source": [
    "#### 🐎 Now execute"
   ]
  },
  {
   "cell_type": "code",
   "execution_count": null,
   "metadata": {
    "language_info": {
     "name": "polyglot-notebook"
    },
    "polyglot_notebook": {
     "kernelName": "pwsh"
    }
   },
   "outputs": [],
   "source": [
    "# Set Claude Code just in case\n",
    "Set-AIToolDefault -Tool ClaudeCode\n",
    "\n",
    "# Clear all changes in the dbatools repo\n",
    "Clear-Modified\n",
    "\n",
    "# Run Claude\n",
    "Get-ChildItem C:\\github\\dbatools\\tests\\*.Tests.ps1 |\n",
    "Update-PesterTest -First 1 -Skip 1 -Verbose"
   ]
  },
  {
   "cell_type": "markdown",
   "id": "dd4b3726",
   "metadata": {},
   "source": [
    "\n",
    "### Claude excelled at\n",
    "\n",
    "<dl>\n",
    "  <dt>✅ Structural refactoring (BeforeAll/AfterAll)</dt>\n",
    "  <dt>✅ Parameter test refactoring</dt>\n",
    "  <dt>✅ Where-Object conversions</dt>\n",
    "  <dt>✅ Hashtable alignment</dt>\n",
    "  <dt>✅ Comment preservation</dt>\n",
    "</dl>\n",
    "\n",
    "### Claude wasn't as good at\n",
    "\n",
    "<dl>\n",
    "  <dt>❌ Large files</dt>\n",
    "  <dt>❌ While rare, instructions were sometimes missed</dt>\n",
    "  <dt>❌ Variable scoping fixes</dt>\n",
    "</dl>\n",
    "\n",
    "> I would say [Claude migrated] about 80 percent automatically, 10 percent classic manual search and replace and 10 percent hard manual work. Most manual cases were because code was not good in the first place. ~ Andreas Jordan, co-migrator\n",
    "\n",
    "\n",
    "### Upgrading to v6\n",
    "\n",
    "1. Update migration.md with v5 → v6 changes\n",
    "1. Update style.md if needed\n",
    "1. `Get-ChildItem *.Tests.ps1 | Update-PesterTest`"
   ]
  },
  {
   "cell_type": "markdown",
   "id": "c0ef0396",
   "metadata": {},
   "source": [
    "### ✨ Gemini"
   ]
  },
  {
   "cell_type": "code",
   "execution_count": null,
   "id": "b029f2a2",
   "metadata": {
    "language_info": {
     "name": "polyglot-notebook"
    },
    "polyglot_notebook": {
     "kernelName": "pwsh"
    }
   },
   "outputs": [],
   "source": [
    "# Clear all changes in the dbatools repo\n",
    "Clear-Modified\n",
    "\n",
    "# Set Gemini for that free 1000\n",
    "Set-AIToolDefault -Tool Gemini\n",
    "\n",
    "# Run Gemini CLI\n",
    "Get-ChildItem C:\\github\\dbatools\\tests\\*.Tests.ps1 |\n",
    "Update-PesterTest -First 1 -Skip 1 -Verbose"
   ]
  },
  {
   "cell_type": "markdown",
   "id": "5a6cb809",
   "metadata": {},
   "source": [
    "### 🧭 GitHub Copilot"
   ]
  },
  {
   "cell_type": "code",
   "execution_count": null,
   "metadata": {
    "language_info": {
     "name": "polyglot-notebook"
    },
    "polyglot_notebook": {
     "kernelName": "pwsh"
    }
   },
   "outputs": [],
   "source": [
    "# Requires subscription\n",
    "Set-AIToolDefault -Tool GitHubCopilot"
   ]
  },
  {
   "cell_type": "markdown",
   "id": "12f76aba",
   "metadata": {},
   "source": [
    "#### 🧠 First with GPT-5"
   ]
  },
  {
   "cell_type": "code",
   "execution_count": null,
   "metadata": {
    "language_info": {
     "name": "polyglot-notebook"
    },
    "polyglot_notebook": {
     "kernelName": "pwsh"
    }
   },
   "outputs": [],
   "source": [
    "# Clear all changes in the dbatools repo\n",
    "Clear-Modified\n",
    "\n",
    "# Update reasoning effort for ...different.. results\n",
    "Set-AIToolConfig -Tool Codex -ReasoningEffort high\n",
    "\n",
    "# Run conversion\n",
    "Get-ChildItem C:\\github\\dbatools\\tests\\*DbaDbShrink*.Tests.ps1 |\n",
    "Update-PesterTest -First 1 -Model gpt-5"
   ]
  },
  {
   "cell_type": "markdown",
   "id": "04b5947d",
   "metadata": {},
   "source": [
    "##### 🧠 Now with Sonnet"
   ]
  },
  {
   "cell_type": "code",
   "execution_count": null,
   "metadata": {
    "language_info": {
     "name": "polyglot-notebook"
    },
    "polyglot_notebook": {
     "kernelName": "pwsh"
    }
   },
   "outputs": [],
   "source": [
    "# Clear all changes in the dbatools repo\n",
    "Clear-Modified\n",
    "\n",
    "Get-ChildItem C:\\github\\dbatools\\tests\\*DbaDbShrink*.Tests.ps1 |\n",
    "Update-PesterTest -First 1 -Model claude-sonnet-4.5"
   ]
  },
  {
   "cell_type": "markdown",
   "id": "1de28bc7",
   "metadata": {},
   "source": [
    "### This is repeatable for other types of refactoring 🎉\n",
    "\n",
    "<dl>\n",
    "  <dt>🧪 Test frameworks (Jest → Vitest)</dt>\n",
    "  <dt>🔄 API upgrades (any v1 → v2)</dt>\n",
    "  <dt>🎨 Linting/style fixes</dt>\n",
    "  <dt>📝 Documentation updates</dt>\n",
    "  <dt>🌍 i18n sweeps</dt>\n",
    "  <dt>🧩 Dependency migrations</dt>\n",
    "</dl>"
   ]
  }
 ],
 "metadata": {
  "kernelspec": {
   "display_name": ".NET (C#)",
   "language": "C#",
   "name": ".net-csharp"
  },
  "language_info": {
   "name": "polyglot-notebook"
  },
  "polyglot_notebook": {
   "kernelInfo": {
    "defaultKernelName": "csharp",
    "items": [
     {
      "aliases": [],
      "name": "csharp"
     },
     {
      "aliases": [],
      "languageName": "pwsh",
      "name": "pwsh"
     }
    ]
   }
  }
 },
 "nbformat": 4,
 "nbformat_minor": 5
}
